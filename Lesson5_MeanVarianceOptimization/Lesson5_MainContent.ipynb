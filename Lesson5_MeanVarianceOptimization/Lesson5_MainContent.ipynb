{
 "cells": [
  {
   "cell_type": "markdown",
   "metadata": {},
   "source": [
    "### Lesson 5\n"
   ]
  },
  {
   "cell_type": "markdown",
   "metadata": {},
   "source": [
    "# Mean-Variance Optimization of Portfolios "
   ]
  },
  {
   "cell_type": "markdown",
   "metadata": {},
   "source": [
    "![](Lesson5GoalHeaderImage.png)"
   ]
  },
  {
   "cell_type": "markdown",
   "metadata": {},
   "source": [
    "## 5.1 Introduction"
   ]
  },
  {
   "cell_type": "markdown",
   "metadata": {},
   "source": [
    "An investor can take recourse to traditional portfolio construction methods to determine the asset allocation weights.  **Lesson 4 Traditional Methods for Portfolio Construction** discussed two such methods, viz., **Equal weighted portfolio contruction** and **Inverse volatility weighted portfolio construction**.   \n",
    "\n",
    "However, is there a possibility where the **optimal weights**,  that obtains the **maximum return** of a portfolio  for a **minimal risk**, can be determined? In other words, is it possible for an investor to determine the optimal or the best apportionment of capital to assets in the portfolio, so that the investor reaps maximum return for  a minimum risk? Tough question, indeed! But thankfully, the answer is a firm Yes!  \n",
    "  \n",
    "The **Markowitz model** [MAR 52]  built on the **Mean-Variance** framework of asset returns is an elegant solution to this question. Also known as **Mean-Variance Optimization (MVO)**,  the model aims to solve a multi-objective optimization problem subject to basic constraints imposed on the portfolio. "
   ]
  },
  {
   "cell_type": "markdown",
   "metadata": {},
   "source": [
    "## 5.2 Mean-Variance Optimization Model"
   ]
  },
  {
   "cell_type": "markdown",
   "metadata": {},
   "source": [
    "We briefly recall the return and risk of a portfolio that was discussed in **Lesson 1 Fundamentals of risk and return of a portfolio**.     \n"
   ]
  },
  {
   "cell_type": "markdown",
   "metadata": {},
   "source": [
    "Let P be a portfolio comprising assets $A_1, A_2,...A_N$ with weights $W_1, W_2,...W_N$ and $\\mu_1, \\mu_2, ...\\mu_N$ as the asset returns. The portfolio return *r*  determined by a weighted summation of its individual asset returns is given by, "
   ]
  },
  {
   "cell_type": "markdown",
   "metadata": {},
   "source": [
    "\n",
    "![](Lesson5Eqn5_1.png)\n",
    "<h5 align=\"right\">..........(5.1)</h5>"
   ]
  },
  {
   "cell_type": "markdown",
   "metadata": {},
   "source": [
    "Portfolio risk is the standard deviation of its returns and is given by,"
   ]
  },
  {
   "cell_type": "markdown",
   "metadata": {},
   "source": [
    "![](Lesson5Eqn5_2.png)\n",
    "<h5 align=\"right\">..........(5.2)</h5>\n"
   ]
  },
  {
   "cell_type": "markdown",
   "metadata": {},
   "source": [
    "where $\\sigma_{i,j}$ is the variance-covariance matrix of returns. "
   ]
  },
  {
   "cell_type": "markdown",
   "metadata": {},
   "source": [
    "The Mean-Variance Optimization model is given by:"
   ]
  },
  {
   "cell_type": "markdown",
   "metadata": {},
   "source": [
    "\n",
    "![](Lesson5Eqn5_3.png)\n",
    "<h5 align=\"right\">..........(5.3)</h5>"
   ]
  },
  {
   "cell_type": "markdown",
   "metadata": {},
   "source": [
    "The model works on two **objective functions**,  \n",
    "(i)  **to maximize expected portfolio return** and   \n",
    "(ii) **to minimize risk of the portfolio**   \n",
    "It therefore aims to solve a **non-linear bi-objective optimization problem**.     \n",
    "\n",
    "The MVO model incorporates the **basic constraints** of   \n",
    "(i) **the sum of the weights equals 1.**   \n",
    "    This means that  the investor's capital is fully invested in the portfolio and in such a case,  the portfolio is termed as a **fully invested portfolio**.   \n",
    "(ii) **the weights $W_i$ lie between 0 and 1.**   \n",
    "This means that either no capital may be allotted for investment in an asset ($W_i = 0$) or the entire capital may be invested in  an asset ($W_i = 1$) or the capital may be apportioned between assets in the porfolio for weights that range between the interval (0,1).  "
   ]
  },
  {
   "cell_type": "markdown",
   "metadata": {},
   "source": [
    "## 5.3 Solving the MVO Model"
   ]
  },
  {
   "cell_type": "markdown",
   "metadata": {},
   "source": [
    "While there are many ways to solve a bi-objective optimization problem, we choose to solve the problem by decomposing it into two three sub-problem models, viz.,   \n",
    "(i)   obtaining the maximal expected return $R^{MaxRetrn}$ of the portfolio,  subject to basic constraints,  \n",
    "(ii)  obtaining the optimal expected return $R^{MinRisk}$ corresponding to the minimum risk portfolio,  subject to basic constraints, and finally,   \n",
    "(iii) obtaining the optimal weights of the portfolio sets that minimize risk and whose returns R lie between $R^{MinRisk}$ and  $R^{MaxRetrn}$, (i.e.)  $R^{MinRisk} \\le R \\le R^{MaxRetrn}$, subject to basic constraints.    \n",
    "\n",
    "The optimal portfolio set is referred to as the **efficient set**.\n"
   ]
  },
  {
   "cell_type": "markdown",
   "metadata": {},
   "source": [
    "### 5.3.1  Obtaining the Maximal Expected Return of the Portfolio"
   ]
  },
  {
   "cell_type": "markdown",
   "metadata": {},
   "source": [
    "The mathematical model for this sub-problem is given by, "
   ]
  },
  {
   "cell_type": "markdown",
   "metadata": {},
   "source": [
    "![](Lesson5Eqn5_4.png)\n",
    "<h5 align=\"right\">..........(5.4)</h5>"
   ]
  },
  {
   "cell_type": "markdown",
   "metadata": {},
   "source": [
    "The optimal weights $W_{i}^{Optimal}$ obtained by solving (5.4) is used to compute $R^{MaxRetrn} = \\sum{\\left(W_{i}^{Optimal}.\\mu_i\\right)}$"
   ]
  },
  {
   "cell_type": "markdown",
   "metadata": {},
   "source": [
    "The Python function **MaximizeReturns** employs scipy and NumPy to obtain the optimal weights. Since the problem model is linear, **linprog** function from the package scipy.optimize is invoked to execute **linear programming** to solve the problem model.  "
   ]
  },
  {
   "cell_type": "code",
   "execution_count": 33,
   "metadata": {},
   "outputs": [],
   "source": [
    "#function obtains maximal return portfolio using linear programming\n",
    "\n",
    "def MaximizeReturns(MeanReturns, PortfolioSize):\n",
    "    \n",
    "    #dependencies\n",
    "    from scipy.optimize import linprog\n",
    "    import numpy as np\n",
    "    \n",
    "    c = (np.multiply(-1, MeanReturns))\n",
    "    A = np.ones([PortfolioSize,1]).T\n",
    "    b=[1]\n",
    "    res = linprog(c, A_ub = A, b_ub = b, bounds = (0,1), method = 'simplex') \n",
    "    \n",
    "    return res"
   ]
  },
  {
   "cell_type": "markdown",
   "metadata": {},
   "source": [
    "### 5.3.2  Obtaining the Optimal Expected Return of a Minimum Risk Portfolio"
   ]
  },
  {
   "cell_type": "markdown",
   "metadata": {},
   "source": [
    "The mathematical model for this sub-problem is given by"
   ]
  },
  {
   "cell_type": "markdown",
   "metadata": {},
   "source": [
    "\n",
    "![](Lesson5Eqn5_5.png)\n",
    "<h5 align=\"right\">..........(5.5)</h5>"
   ]
  },
  {
   "cell_type": "markdown",
   "metadata": {},
   "source": [
    "The optimal weights $W_{i}^{Optimal}$ obtained by solving (5.5) is used to compute $R^{MinRisk} = \\sum{\\left(W_{i}^{Optimal}.\\mu_i\\right)}$"
   ]
  },
  {
   "cell_type": "markdown",
   "metadata": {},
   "source": [
    "The Python function **MinimizeRisk** employs scipy.optimize and NumPy to obtain the optimal weights.  \n",
    "\n",
    "Functions  <b>f</b> and **constraintEq** describe the non-linear objective function and the fully invested constraint described in (5.5),  respectively. **optimize.minimize** function executes minimization of scalar functions with one or more variables. "
   ]
  },
  {
   "cell_type": "code",
   "execution_count": 34,
   "metadata": {},
   "outputs": [],
   "source": [
    "#function obtains minimal risk portfolio \n",
    "\n",
    "#dependencies\n",
    "import numpy as np\n",
    "from scipy import optimize \n",
    "\n",
    "def MinimizeRisk(CovarReturns, PortfolioSize):\n",
    "    \n",
    "    def  f(x, CovarReturns):\n",
    "        func = np.matmul(np.matmul(x, CovarReturns), x.T) \n",
    "        return func\n",
    "\n",
    "    def constraintEq(x):\n",
    "        A=np.ones(x.shape)\n",
    "        b=1\n",
    "        constraintVal = np.matmul(A,x.T)-b \n",
    "        return constraintVal\n",
    "    \n",
    "    xinit=np.repeat(0.1, PortfolioSize)\n",
    "    cons = ({'type': 'eq', 'fun':constraintEq})\n",
    "    lb = 0\n",
    "    ub = 1\n",
    "    bnds = tuple([(lb,ub) for x in xinit])\n",
    "\n",
    "    opt = optimize.minimize (f, x0 = xinit, args = (CovarReturns),  bounds = bnds, \\\n",
    "                             constraints = cons, tol = 10**-3)\n",
    "    \n",
    "    return opt\n",
    "    "
   ]
  },
  {
   "cell_type": "markdown",
   "metadata": {},
   "source": [
    "### 5.3.3   Obtaining the Optimal Weights  for Minimum Risk and  Maximum Return Portfolios"
   ]
  },
  {
   "cell_type": "markdown",
   "metadata": {},
   "source": [
    "The mathematical model for this sub-problem is defined as follows, where for each R, $R^{MinRisk} \\le R \\le R^{MaxRetrn}$, the problem model is repeatedly solved to arrive at the optimal weight sets,  each of which determines a portfolio that minimizes risk and maximizes return.  "
   ]
  },
  {
   "cell_type": "markdown",
   "metadata": {},
   "source": [
    "\n",
    "![](Lesson5Eqn5_6.png)\n",
    "<h5 align=\"right\">..........(5.6)</h5>"
   ]
  },
  {
   "cell_type": "markdown",
   "metadata": {},
   "source": [
    "The Python function **MinimizeRiskConstr** employs scipy and NumPy to obtain the optimal weight sets. Functions <b>f</b>, **constraintEq** and **constraintIneq** describe the objective function, equality constraint and inequality constraint of (5.6). Function **optimize.minimize** uses the Trust-Region Constrained algorithm (**method = 'trust-constr'**) to solve the constrained optimization problem with both equality and inequality constraints.   "
   ]
  },
  {
   "cell_type": "code",
   "execution_count": 35,
   "metadata": {},
   "outputs": [],
   "source": [
    "#function obtains Minimal risk and Maximum return portfolios\n",
    "\n",
    "#dependencies\n",
    "import numpy as np\n",
    "from scipy import optimize \n",
    "\n",
    "def MinimizeRiskConstr(MeanReturns, CovarReturns, PortfolioSize, R):\n",
    "    \n",
    "    def  f(x,CovarReturns):\n",
    "         \n",
    "        func = np.matmul(np.matmul(x,CovarReturns ), x.T)\n",
    "        return func\n",
    "\n",
    "    def constraintEq(x):\n",
    "        AEq=np.ones(x.shape)\n",
    "        bEq=1\n",
    "        EqconstraintVal = np.matmul(AEq,x.T)-bEq \n",
    "        return EqconstraintVal\n",
    "    \n",
    "    def constraintIneq(x, MeanReturns, R):\n",
    "        AIneq = np.array(MeanReturns)\n",
    "        bIneq = R\n",
    "        IneqconstraintVal = np.matmul(AIneq,x.T) - bIneq\n",
    "        return IneqconstraintVal\n",
    "    \n",
    "\n",
    "    xinit=np.repeat(0.1, PortfolioSize)\n",
    "    cons = ({'type': 'eq', 'fun':constraintEq},\n",
    "            {'type':'ineq', 'fun':constraintIneq, 'args':(MeanReturns,R) })\n",
    "    lb = 0\n",
    "    ub = 1\n",
    "    bnds = tuple([(lb,ub) for x in xinit])\n",
    "\n",
    "    opt = optimize.minimize (f, args = (CovarReturns), method ='trust-constr',  \\\n",
    "                        x0 = xinit,   bounds = bnds, constraints = cons, tol = 10**-3)\n",
    "    \n",
    "    return  opt\n",
    "    \n"
   ]
  },
  {
   "cell_type": "markdown",
   "metadata": {},
   "source": [
    "## 5.3  Case Study"
   ]
  },
  {
   "cell_type": "markdown",
   "metadata": {},
   "source": [
    "Let us suppose that an investor decides to invest in a $k$-portfolio ($k$-portfolio 1) comprising the  following  Dow stocks. (Selection of $k$ portfolio 1, is detailed in **Lesson 3 Heuristic Portfolio Selection**)   \n",
    "\n",
    "**𝑘-portfolio 1**:  \n",
    "\n",
    "{Coca-Cola (KO), United Health (UNH), Walt Disney (DIS), IBM (IBM), Cisco (CSCO), JPMorgan Chase (JPM), Goldman Sachs (GS), Walgreens Boots Alliance (WBA), Apple (AAPL), Home Depot (HD), American Express (AXP), McDonald's (MCD), Merck (MRK), Boeing (BA), Caterpillar (CAT)}     \n",
    "\n",
    "The investor desires to explore the optimal portfolio sets that yield maximum expected portfolio return and  minimum risk. The objective is to know the optimal weights given an expected return or a desired risk.  \n",
    "\n",
    "To apply the MVO model, the historical data set for the $k$-portfolio ( DJIA index: April 11 2014 to April 11, 2019) is cleaned and kept fit for use by the three stage process of optimization discussed in Sec. 5.2. (**Lesson 2 Some glimpses of Financial Data Wrangling** discusses aspects of data cleaning or data wrangling)  \n",
    "\n",
    "The following Python code reads the dataset concerned, computes the stock returns using the Python function **StockReturnsComputing** and obtains the mean returns and the variance-covariance matrix of returns. (Refer **Lesson 1 Fundamentals of Risk and Return of a Portfolio** to know about risk and return of a portfolio). \n",
    "\n"
   ]
  },
  {
   "cell_type": "code",
   "execution_count": 36,
   "metadata": {},
   "outputs": [],
   "source": [
    "# function computes asset returns \n",
    "def StockReturnsComputing(StockPrice, Rows, Columns):\n",
    "    \n",
    "    import numpy as np\n",
    "    \n",
    "    StockReturn = np.zeros([Rows-1, Columns])\n",
    "    for j in range(Columns):        # j: Assets\n",
    "        for i in range(Rows-1):     # i: Daily Prices\n",
    "            StockReturn[i,j]=((StockPrice[i+1, j]-StockPrice[i,j])/StockPrice[i,j])* 100\n",
    "\n",
    "    return StockReturn"
   ]
  },
  {
   "cell_type": "code",
   "execution_count": 37,
   "metadata": {},
   "outputs": [
    {
     "name": "stdout",
     "output_type": "stream",
     "text": [
      "['AAPL', 'AXP', 'BA', 'CAT', 'CSCO', 'DIS', 'GS', 'HD', 'IBM', 'JPM', 'KO', 'MCD', 'MRK', 'UNH', 'WBA']\n",
      "Mean returns of assets in k-portfolio 1\n",
      " [ 0.09   0.029  0.1    0.039  0.081  0.04   0.033  0.085 -0.016  0.06\n",
      "  0.019  0.057  0.036  0.095 -0.002]\n",
      "Variance-Covariance matrix of returns\n",
      " [[2.375 0.672 0.962 1.042 0.999 0.68  0.954 0.726 0.709 0.825 0.306 0.458\n",
      "  0.534 0.774 0.697]\n",
      " [0.672 1.648 0.8   0.95  0.7   0.569 1.065 0.658 0.663 1.001 0.307 0.35\n",
      "  0.556 0.718 0.667]\n",
      " [0.962 0.8   2.288 1.31  0.89  0.716 1.066 0.747 0.777 0.977 0.381 0.472\n",
      "  0.578 0.745 0.679]\n",
      " [1.042 0.95  1.31  2.733 1.041 0.688 1.321 0.796 0.885 1.169 0.358 0.455\n",
      "  0.616 0.72  0.681]\n",
      " [0.999 0.7   0.89  1.041 1.789 0.713 0.927 0.724 0.817 0.909 0.362 0.477\n",
      "  0.647 0.656 0.707]\n",
      " [0.68  0.569 0.716 0.688 0.713 1.35  0.773 0.586 0.574 0.717 0.302 0.368\n",
      "  0.466 0.557 0.631]\n",
      " [0.954 1.065 1.066 1.321 0.927 0.773 2.114 0.795 0.803 1.554 0.303 0.467\n",
      "  0.705 0.82  0.819]\n",
      " [0.726 0.658 0.747 0.796 0.724 0.586 0.795 1.39  0.619 0.753 0.343 0.472\n",
      "  0.487 0.659 0.689]\n",
      " [0.709 0.663 0.777 0.885 0.817 0.574 0.803 0.619 1.632 0.767 0.372 0.391\n",
      "  0.576 0.564 0.534]\n",
      " [0.825 1.001 0.977 1.169 0.909 0.717 1.554 0.753 0.767 1.702 0.324 0.483\n",
      "  0.675 0.761 0.717]\n",
      " [0.306 0.307 0.381 0.358 0.362 0.302 0.303 0.343 0.372 0.324 0.806 0.36\n",
      "  0.384 0.31  0.355]\n",
      " [0.458 0.35  0.472 0.455 0.477 0.368 0.467 0.472 0.391 0.483 0.36  1.086\n",
      "  0.402 0.43  0.433]\n",
      " [0.534 0.556 0.578 0.616 0.647 0.466 0.705 0.487 0.576 0.675 0.384 0.402\n",
      "  1.504 0.615 0.64 ]\n",
      " [0.774 0.718 0.745 0.72  0.656 0.557 0.82  0.659 0.564 0.761 0.31  0.43\n",
      "  0.615 1.722 0.78 ]\n",
      " [0.697 0.667 0.679 0.681 0.707 0.631 0.819 0.689 0.534 0.717 0.355 0.433\n",
      "  0.64  0.78  2.554]]\n"
     ]
    }
   ],
   "source": [
    "# Obtain optimal portfolio sets that maximize return and minimize risk\n",
    "\n",
    "#Dependencies\n",
    "import numpy as np\n",
    "import pandas as pd\n",
    "\n",
    "\n",
    "#input k-portfolio 1 dataset comprising 15 stocks\n",
    "StockFileName = 'DJIA_Apr112014_Apr112019_kpf1.csv'\n",
    "\n",
    "Rows = 1259  #excluding header\n",
    "Columns = 15  #excluding date\n",
    "portfolioSize = Columns #set portfolio size\n",
    "\n",
    "#read stock prices in a dataframe\n",
    "df = pd.read_csv(StockFileName,  nrows= Rows)\n",
    "\n",
    "#extract asset labels\n",
    "assetLabels = df.columns[1:Columns+1].tolist()\n",
    "print(assetLabels)\n",
    "\n",
    "#extract asset prices\n",
    "StockData = df.iloc[0:, 1:]\n",
    "\n",
    "\n",
    "#compute asset returns\n",
    "arStockPrices = np.asarray(StockData)\n",
    "[Rows, Cols]=arStockPrices.shape\n",
    "arReturns = StockReturnsComputing(arStockPrices, Rows, Cols)\n",
    "\n",
    "\n",
    "#compute mean returns and variance covariance matrix of returns\n",
    "meanReturns = np.mean(arReturns, axis = 0)\n",
    "covReturns = np.cov(arReturns, rowvar=False)\n",
    "\n",
    "#set precision for printing results\n",
    "np.set_printoptions(precision=3, suppress = True)\n",
    "\n",
    "#display mean returns and variance-covariance matrix of returns\n",
    "print('Mean returns of assets in k-portfolio 1\\n', meanReturns)\n",
    "print('Variance-Covariance matrix of returns\\n', covReturns)\n"
   ]
  },
  {
   "cell_type": "markdown",
   "metadata": {},
   "source": [
    "As the first stage to executing the MVO, the mathematical model discussed in Sec. 5.3.1 is applied to the dataset concerned and the maximum expected portfolio return $R^{MaxRetrn}$ is obtained. The following Python code shows the invocation of function **MaximizeReturns** to arrive at the maximum return. "
   ]
  },
  {
   "cell_type": "code",
   "execution_count": 38,
   "metadata": {},
   "outputs": [
    {
     "name": "stdout",
     "output_type": "stream",
     "text": [
      "Maximal Expected Portfolio Return:    0.0997\n"
     ]
    }
   ],
   "source": [
    "#Maximal expected portfolio return computation for the k-portfolio\n",
    "result1 = MaximizeReturns(meanReturns, portfolioSize)\n",
    "maxReturnWeights = result1.x\n",
    "maxExpPortfolioReturn = np.matmul(meanReturns.T, maxReturnWeights)\n",
    "print(\"Maximal Expected Portfolio Return:   %7.4f\" % maxExpPortfolioReturn )\n"
   ]
  },
  {
   "cell_type": "markdown",
   "metadata": {},
   "source": [
    "In the second stage, the mathematical model discussed in Sec. 5.3.2 is applied to the dataset and $R^{MinRisk}$,  the expected portfolio return corresponding to the minimum risk is determined. The following Python code shows the invocation of function **MinimizeRisk** to arrive at the return corresponding to minimum risk.  "
   ]
  },
  {
   "cell_type": "code",
   "execution_count": 39,
   "metadata": {},
   "outputs": [
    {
     "name": "stdout",
     "output_type": "stream",
     "text": [
      "Expected Return of Minimum Risk Portfolio:   0.0361\n"
     ]
    }
   ],
   "source": [
    "#expected portfolio return computation for the minimum risk k-portfolio \n",
    "result2 = MinimizeRisk(covReturns, portfolioSize)\n",
    "minRiskWeights = result2.x\n",
    "minRiskExpPortfolioReturn = np.matmul(meanReturns.T, minRiskWeights)\n",
    "print(\"Expected Return of Minimum Risk Portfolio:  %7.4f\" % minRiskExpPortfolioReturn)\n"
   ]
  },
  {
   "cell_type": "markdown",
   "metadata": {},
   "source": [
    "In the third stage, the mathematical model discussed in Sec. 5.3.3 is applied,  employing function **MinimizeRiskConstr**. The following Python code shows the repeated invocation of the function controlled by a **while** loop that varies from **low** to **high** in steps of **increment = 0.001**. Here **low** and **high** denote $R^{MinRisk}$ and $R^{MaxReturn}$ respectively. The loop therefore executes (5.6) repeatedly varying R as defined by $R^{MinRisk} \\le R \\le R^{MaxRetrn}$.   "
   ]
  },
  {
   "cell_type": "code",
   "execution_count": 42,
   "metadata": {},
   "outputs": [
    {
     "name": "stdout",
     "output_type": "stream",
     "text": [
      "Size of the  efficient set: (64, 15)\n",
      "Optimal weights of the efficient set portfolios: \n",
      " [[ 0.028  0.039  0.023  0.017  0.026  0.103  0.017  0.05   0.032  0.021\n",
      "   0.319  0.192  0.062  0.047  0.025]\n",
      " [ 0.028  0.039  0.023  0.017  0.026  0.108  0.017  0.051  0.032  0.022\n",
      "   0.311  0.192  0.063  0.047  0.025]\n",
      " [ 0.029  0.039  0.024  0.017  0.027  0.108  0.017  0.052  0.031  0.022\n",
      "   0.309  0.192  0.062  0.048  0.024]\n",
      " [ 0.03   0.039  0.025  0.017  0.027  0.107  0.017  0.053  0.03   0.022\n",
      "   0.306  0.192  0.062  0.049  0.024]\n",
      " [ 0.031  0.038  0.024  0.016  0.028  0.086  0.016  0.059  0.028  0.022\n",
      "   0.316  0.197  0.06   0.056  0.023]\n",
      " [ 0.033  0.039  0.027  0.017  0.029  0.103  0.017  0.06   0.028  0.023\n",
      "   0.294  0.185  0.064  0.056  0.023]\n",
      " [ 0.034  0.039  0.028  0.017  0.03   0.102  0.017  0.063  0.027  0.023\n",
      "   0.29   0.184  0.064  0.059  0.023]\n",
      " [ 0.035  0.038  0.03   0.017  0.031  0.101  0.017  0.066  0.026  0.024\n",
      "   0.285  0.183  0.064  0.062  0.022]\n",
      " [ 0.036  0.038  0.031  0.018  0.033  0.099  0.017  0.069  0.025  0.024\n",
      "   0.277  0.184  0.062  0.065  0.022]\n",
      " [ 0.039  0.034  0.034  0.017  0.036  0.058  0.018  0.069  0.023  0.026\n",
      "   0.298  0.205  0.052  0.071  0.021]\n",
      " [ 0.04   0.033  0.036  0.017  0.037  0.056  0.017  0.072  0.022  0.026\n",
      "   0.295  0.203  0.051  0.075  0.021]\n",
      " [ 0.041  0.032  0.037  0.017  0.038  0.055  0.017  0.075  0.02   0.026\n",
      "   0.291  0.202  0.05   0.079  0.02 ]\n",
      " [ 0.05   0.039  0.047  0.026  0.048  0.053  0.026  0.07   0.027  0.036\n",
      "   0.242  0.179  0.054  0.073  0.028]\n",
      " [ 0.052  0.038  0.048  0.026  0.049  0.051  0.026  0.072  0.026  0.037\n",
      "   0.24   0.179  0.053  0.076  0.028]\n",
      " [ 0.052  0.038  0.049  0.026  0.049  0.05   0.026  0.073  0.025  0.037\n",
      "   0.24   0.179  0.053  0.077  0.027]\n",
      " [ 0.049  0.027  0.047  0.016  0.046  0.044  0.016  0.082  0.015  0.028\n",
      "   0.276  0.202  0.044  0.092  0.016]\n",
      " [ 0.053  0.025  0.051  0.016  0.049  0.04   0.016  0.083  0.014  0.029\n",
      "   0.273  0.202  0.041  0.095  0.015]\n",
      " [ 0.056  0.024  0.055  0.016  0.052  0.036  0.015  0.084  0.012  0.03\n",
      "   0.268  0.202  0.039  0.097  0.014]\n",
      " [ 0.059  0.022  0.059  0.016  0.055  0.032  0.015  0.084  0.011  0.031\n",
      "   0.264  0.201  0.036  0.1    0.013]\n",
      " [ 0.063  0.021  0.064  0.015  0.059  0.028  0.015  0.085  0.01   0.032\n",
      "   0.259  0.201  0.034  0.102  0.012]\n",
      " [ 0.066  0.019  0.068  0.015  0.062  0.025  0.015  0.086  0.008  0.033\n",
      "   0.254  0.2    0.032  0.105  0.011]\n",
      " [ 0.069  0.018  0.071  0.015  0.064  0.022  0.015  0.087  0.007  0.033\n",
      "   0.25   0.2    0.03   0.107  0.011]\n",
      " [ 0.069  0.017  0.072  0.015  0.065  0.021  0.015  0.088  0.007  0.033\n",
      "   0.251  0.201  0.029  0.108  0.01 ]\n",
      " [ 0.068  0.016  0.076  0.01   0.064  0.025  0.01   0.103  0.007  0.024\n",
      "   0.237  0.201  0.028  0.121  0.009]\n",
      " [ 0.071  0.015  0.08   0.009  0.068  0.023  0.009  0.103  0.007  0.023\n",
      "   0.232  0.201  0.025  0.126  0.008]\n",
      " [ 0.066  0.015  0.083  0.01   0.072  0.021  0.01   0.111  0.007  0.025\n",
      "   0.219  0.198  0.024  0.132  0.009]\n",
      " [ 0.071  0.013  0.093  0.009  0.078  0.019  0.009  0.108  0.007  0.024\n",
      "   0.214  0.197  0.02   0.129  0.008]\n",
      " [ 0.067  0.012  0.079  0.009  0.069  0.016  0.009  0.125  0.006  0.025\n",
      "   0.207  0.197  0.022  0.153  0.007]\n",
      " [ 0.069  0.01   0.082  0.008  0.072  0.013  0.008  0.127  0.005  0.025\n",
      "   0.202  0.197  0.019  0.157  0.006]\n",
      " [ 0.069  0.01   0.083  0.007  0.073  0.012  0.007  0.128  0.004  0.024\n",
      "   0.202  0.198  0.018  0.159  0.005]\n",
      " [ 0.07   0.009  0.084  0.007  0.073  0.011  0.007  0.129  0.004  0.024\n",
      "   0.202  0.199  0.017  0.16   0.005]\n",
      " [ 0.066  0.013  0.086  0.008  0.072  0.029  0.007  0.148  0.006  0.017\n",
      "   0.144  0.191  0.029  0.177  0.006]\n",
      " [ 0.068  0.013  0.09   0.007  0.074  0.027  0.007  0.151  0.006  0.017\n",
      "   0.135  0.19   0.027  0.183  0.006]\n",
      " [ 0.065  0.012  0.09   0.007  0.073  0.025  0.007  0.161  0.006  0.017\n",
      "   0.123  0.194  0.025  0.189  0.006]\n",
      " [ 0.067  0.012  0.094  0.007  0.076  0.024  0.007  0.163  0.005  0.016\n",
      "   0.114  0.194  0.023  0.193  0.006]\n",
      " [ 0.068  0.011  0.098  0.007  0.078  0.022  0.007  0.166  0.005  0.016\n",
      "   0.105  0.193  0.021  0.199  0.006]\n",
      " [ 0.071  0.011  0.106  0.007  0.086  0.021  0.007  0.162  0.005  0.016\n",
      "   0.099  0.184  0.018  0.202  0.005]\n",
      " [ 0.077  0.008  0.11   0.005  0.088  0.011  0.005  0.164  0.004  0.011\n",
      "   0.107  0.191  0.01   0.204  0.005]\n",
      " [ 0.073  0.009  0.117  0.007  0.083  0.015  0.007  0.179  0.005  0.016\n",
      "   0.079  0.184  0.014  0.205  0.005]\n",
      " [ 0.074  0.009  0.121  0.007  0.085  0.015  0.007  0.183  0.005  0.017\n",
      "   0.067  0.181  0.014  0.209  0.005]\n",
      " [ 0.075  0.009  0.125  0.007  0.086  0.015  0.007  0.188  0.005  0.017\n",
      "   0.055  0.179  0.014  0.214  0.005]\n",
      " [ 0.075  0.009  0.129  0.007  0.088  0.014  0.007  0.191  0.005  0.017\n",
      "   0.046  0.177  0.014  0.217  0.005]\n",
      " [ 0.075  0.008  0.13   0.006  0.088  0.014  0.006  0.193  0.004  0.016\n",
      "   0.045  0.177  0.013  0.218  0.005]\n",
      " [ 0.078  0.008  0.138  0.006  0.084  0.013  0.006  0.201  0.005  0.016\n",
      "   0.021  0.178  0.013  0.227  0.005]\n",
      " [ 0.08   0.008  0.144  0.006  0.085  0.012  0.006  0.204  0.004  0.015\n",
      "   0.011  0.175  0.012  0.231  0.005]\n",
      " [ 0.082  0.008  0.15   0.006  0.085  0.012  0.006  0.207  0.004  0.015\n",
      "   0.001  0.173  0.011  0.235  0.005]\n",
      " [ 0.081  0.004  0.156  0.004  0.083  0.008  0.004  0.218  0.002  0.009\n",
      "   0.015  0.164  0.008  0.242  0.002]\n",
      " [ 0.086  0.003  0.159  0.004  0.079  0.006  0.003  0.223  0.002  0.008\n",
      "   0.014  0.15   0.007  0.253  0.002]\n",
      " [ 0.085  0.002  0.164  0.003  0.076  0.003  0.003  0.221  0.001  0.006\n",
      "   0.003  0.171  0.002  0.259  0.001]\n",
      " [ 0.086  0.002  0.165  0.002  0.076  0.002  0.002  0.222  0.001  0.005\n",
      "   0.003  0.172  0.002  0.26   0.001]\n",
      " [ 0.088  0.002  0.177  0.003  0.072  0.003  0.003  0.233  0.001  0.006\n",
      "   0.003  0.117  0.003  0.288  0.001]\n",
      " [ 0.091  0.002  0.186  0.003  0.07   0.003  0.003  0.235  0.001  0.006\n",
      "   0.003  0.093  0.003  0.301  0.001]\n",
      " [ 0.097  0.003  0.195  0.003  0.064  0.004  0.003  0.248  0.001  0.006\n",
      "   0.003  0.058  0.004  0.309  0.002]\n",
      " [ 0.109  0.003  0.207  0.003  0.059  0.004  0.003  0.242  0.001  0.006\n",
      "   0.003  0.038  0.004  0.317  0.002]\n",
      " [ 0.119  0.002  0.222  0.003  0.038  0.003  0.002  0.241  0.001  0.006\n",
      "   0.003  0.024  0.003  0.331  0.001]\n",
      " [ 0.112  0.002  0.24   0.002  0.038  0.003  0.002  0.236  0.001  0.005\n",
      "   0.003  0.007  0.003  0.344  0.001]\n",
      " [ 0.091  0.001  0.247  0.001  0.022  0.001  0.001  0.264  0.001  0.002\n",
      "   0.001  0.004  0.001  0.361  0.001]\n",
      " [ 0.096  0.001  0.301  0.001  0.018  0.002  0.001  0.174  0.001  0.003\n",
      "   0.001  0.004  0.002  0.394  0.001]\n",
      " [ 0.098  0.     0.315  0.     0.006  0.001  0.     0.168  0.     0.001\n",
      "   0.     0.001  0.001  0.407  0.   ]\n",
      " [ 0.088  0.001  0.382  0.001  0.012  0.001  0.001  0.067  0.     0.001\n",
      "   0.001  0.003  0.001  0.44   0.001]\n",
      " [ 0.062  0.001  0.433  0.001  0.006  0.001  0.001  0.031  0.     0.001\n",
      "   0.001  0.002  0.001  0.46   0.   ]\n",
      " [ 0.048  0.     0.461  0.     0.002  0.     0.     0.027 -0.    -0.\n",
      "   0.    -0.     0.     0.461  0.   ]\n",
      " [ 0.045 -0.     0.467 -0.     0.001 -0.    -0.     0.026 -0.001 -0.\n",
      "  -0.    -0.001 -0.     0.464 -0.   ]\n",
      " [ 0.006 -0.     0.642  0.     0.     0.    -0.    -0.    -0.    -0.\n",
      "  -0.    -0.001 -0.     0.355 -0.   ]]\n",
      "Annualized Risk and Return of the efficient set portfolios: \n",
      " [[11.571  9.049]\n",
      " [11.585  9.3  ]\n",
      " [11.592  9.551]\n",
      " [11.599  9.802]\n",
      " [11.591 10.053]\n",
      " [11.641 10.304]\n",
      " [11.656 10.555]\n",
      " [11.675 10.806]\n",
      " [11.701 11.057]\n",
      " [11.706 11.308]\n",
      " [11.725 11.559]\n",
      " [11.743 11.81 ]\n",
      " [11.991 12.061]\n",
      " [12.013 12.312]\n",
      " [12.023 12.563]\n",
      " [11.86  12.814]\n",
      " [11.905 13.065]\n",
      " [11.953 13.316]\n",
      " [12.004 13.567]\n",
      " [12.056 13.818]\n",
      " [12.11  14.069]\n",
      " [12.161 14.32 ]\n",
      " [12.174 14.571]\n",
      " [12.201 14.822]\n",
      " [12.258 15.073]\n",
      " [12.339 15.324]\n",
      " [12.413 15.575]\n",
      " [12.427 15.826]\n",
      " [12.487 16.077]\n",
      " [12.509 16.328]\n",
      " [12.522 16.579]\n",
      " [12.75  16.83 ]\n",
      " [12.837 17.081]\n",
      " [12.913 17.332]\n",
      " [13.003 17.583]\n",
      " [13.096 17.834]\n",
      " [13.206 18.085]\n",
      " [13.239 18.336]\n",
      " [13.41  18.587]\n",
      " [13.525 18.838]\n",
      " [13.643 19.089]\n",
      " [13.741 19.34 ]\n",
      " [13.765 19.591]\n",
      " [13.979 19.842]\n",
      " [14.1   20.093]\n",
      " [14.223 20.344]\n",
      " [14.229 20.595]\n",
      " [14.354 20.846]\n",
      " [14.412 21.097]\n",
      " [14.439 21.348]\n",
      " [14.775 21.599]\n",
      " [14.969 21.85 ]\n",
      " [15.212 22.101]\n",
      " [15.426 22.352]\n",
      " [15.647 22.603]\n",
      " [15.866 22.854]\n",
      " [15.982 23.105]\n",
      " [16.396 23.356]\n",
      " [16.593 23.607]\n",
      " [17.243 23.858]\n",
      " [17.767 24.109]\n",
      " [18.016 24.36 ]\n",
      " [18.097 24.611]\n",
      " [19.449 24.862]]\n"
     ]
    }
   ],
   "source": [
    "#compute efficient set for the maximum return and minimum risk portfolios\n",
    "increment = 0.001\n",
    "low = minRiskExpPortfolioReturn\n",
    "high = maxExpPortfolioReturn\n",
    "\n",
    "#initialize optimal weight set and risk-return point set\n",
    "xOptimal =[]\n",
    "minRiskPoint = []\n",
    "expPortfolioReturnPoint =[]\n",
    "\n",
    "#repeated execution of function MinimizeRiskConstr to determine the efficient set \n",
    "while (low < high):\n",
    "    \n",
    "    result3 = MinimizeRiskConstr(meanReturns, covReturns, portfolioSize, low)\n",
    "    xOptimal.append(result3.x)\n",
    "    expPortfolioReturnPoint.append(low)\n",
    "    low = low+increment\n",
    "    \n",
    "#gather optimal weight set    \n",
    "xOptimalArray = np.array(xOptimal)\n",
    "\n",
    "#obtain annualized risk for the efficient set portfolios \n",
    "#for trading days = 251\n",
    "minRiskPoint = np.diagonal(np.matmul((np.matmul(xOptimalArray,covReturns)),\\\n",
    "                                     np.transpose(xOptimalArray)))\n",
    "riskPoint =   np.sqrt(minRiskPoint*251) \n",
    "\n",
    "#obtain expected portfolio annualized return for the \n",
    "#efficient set portfolios, for trading days = 251\n",
    "retPoint = 251*np.array(expPortfolioReturnPoint) \n",
    "\n",
    "#display efficient set portfolio parameters\n",
    "print(\"Size of the  efficient set:\", xOptimalArray.shape )\n",
    "print(\"Optimal weights of the efficient set portfolios: \\n\", xOptimalArray)\n",
    "print(\"Annualized Risk and Return of the efficient set portfolios: \\n\", \\\n",
    "                                                np.c_[riskPoint, retPoint])"
   ]
  },
  {
   "cell_type": "markdown",
   "metadata": {},
   "source": [
    "The efficient set comprises 64 different optimal portfolios. Each of the optimal weight sets can be seen to satisfy all the constraints imposed on them. The optimal weight sets and the annualized risk(%) and return (%) of each of the optimal portfolios,  are now available to the investor for making prudent decisions on the portfolios.  \n",
    "\n",
    "To get back to the investor's objective, if a risk seeking investor aspires to get an annual return of *y*% mindless of the risk involved, then the efficient set allows selecting that portfolio whose risk-return point is [x%, y%] for some x% risk. The corresponding optimal weight set indicates how the investor should apportion the capital on the various assets comprising the $k$-portfolio, to reap the return desired.  \n",
    "\n",
    "In contrast, a risk-averse investor who is too concerned about the risk and hence fixes a risk of x%,  can also get to know about the corresponding return (y%) that the portfolio will fetch for that risk, besides knowing about the  optimal weights that are  required for making such an investment.   \n",
    "  \n",
    " The efficient set therefore provides a gamut of optimal investment decisions to suit the investor's risk appetite.   \n",
    "\n",
    "**Example**  \n",
    "\n",
    "To keep it simple, let us consider a risk averse investor who desires to invest in the aforementioned $k$-portfolio of Dow stocks, with the lowest risk possible.  The efficient set lists the pair [11.571  9.049]  which is the first pair in the efficient set output, offering the lowest annualized risk of 11.571%. If the investor agrees to this risk, then the investor can expect an   annual return of 9.049%. The optimal weights that will effect this are as follows:\n",
    "   [0.028  0.039  0.023  0.017  0.026  0.103  0.017  0.05   0.032  0.021\n",
    "   0.319  0.192  0.062  0.047  0.025].   \n",
    "   \n",
    "To elaborate further, if the investor owns a capital of USD10000,  to gain an annual expected return of 9.049% holding an annualized risk of 11.571%, the investor will have to allot  the capital to the assets in the $k$-portfolio, in the following manner:\n",
    "   \n",
    "['AAPL', 2.8%],  ['AXP', 3.9%],   ['BA', 2.3%],  ['CAT', 1.7%],  ['CSCO', 2.6%],  ['DIS', 10.3%],   ['GS', 1.7%],    ['HD', 5%],  ['IBM', 3.2%],  ['JPM', 2.1%],  ['KO', 31.9%],    ['MCD', 19.2%],  ['MRK', 6.2%], ['UNH', 4.7%],  ['WBA', 2.5%]"
   ]
  },
  {
   "cell_type": "markdown",
   "metadata": {},
   "source": [
    "## 5.4  Efficient Frontier"
   ]
  },
  {
   "cell_type": "markdown",
   "metadata": {},
   "source": [
    "The efficient set obtained by the Mean-Variance Optimization model can be graphically represented by what is called an **efficient frontier**. An efficient frontier is a **risk-return tradeoff graph**, which describes a set of optimal portfolios that yield the highest expected  portfolio return for a  defined level of risk or the lowest possible risk for a  defined level of expected portfolio return. It graphs the optimal structure of the portfolio which yields the maximum expected return for a given level of risk or vice-versa.   \n",
    "\n",
    "Portfolio optimization  strives to build portfolios which are on the efficient frontier and not below it, for these are sub-optimal. The set of all optimal portfolios that lie on the efficient frontier, in other words,  those portfolios that generate the largest return for a given level of risk or vice-versa, are also known as the **Markowitz efficient set**. \n",
    "\n",
    "Given the efficient set, generated for the $k$-portfolio of Dow stocks discussed in Sec. 5.3, the following Python code traces the efficient frontier using **matplotlib** library."
   ]
  },
  {
   "cell_type": "code",
   "execution_count": 41,
   "metadata": {},
   "outputs": [
    {
     "data": {
      "image/png": "[encoded data removed]",
      "text/plain": [
       "<Figure size 432x288 with 1 Axes>"
      ]
     },
     "metadata": {
      "needs_background": "light"
     },
     "output_type": "display_data"
    }
   ],
   "source": [
    "#Graph Efficient Frontier\n",
    "import matplotlib.pyplot as plt\n",
    "\n",
    "NoPoints = riskPoint.size\n",
    "\n",
    "colours = \"blue\"\n",
    "area = np.pi*3\n",
    "\n",
    "plt.title('Efficient Frontier for k-portfolio 1 of Dow stocks')\n",
    "plt.xlabel('Annualized Risk(%)')\n",
    "plt.ylabel('Annualized Expected Portfolio Return(%)' )\n",
    "plt.scatter(riskPoint, retPoint, s=area, c=colours, alpha =0.5)\n",
    "plt.show()\n",
    "\n"
   ]
  },
  {
   "cell_type": "markdown",
   "metadata": {},
   "source": [
    "The efficient frontier for a portfolio serves to provide a road-map for the choices that investors can make,  based on their risk appetites.  \n",
    "  \n",
    "For a specific annualized risk (x%) or a range of values desired by the investor,  the corresponding annualized expected portfolio return (y%) or a range of return values or vice-versa,  can be easily obtained by a visual inspection of the graph.   The point(s) of intersection on the efficient frontier which represent(s) the optimal portfolios,  can be easily decoded to arrive at the optimal weights which determine the optimal allocations of capital to the assets in the portfolio, corresponding to the choice of risk or return.   \n",
    "\n",
    "Fig. 5.1 illustrates how an efficient frontier can direct a risk-seeking investor who desires an annualized expected return of 20%,  to invest in a portfolio that holds a 14% annualized risk, while enlightening the investor on the optimal weights which will ensure the aspired risk/return.  "
   ]
  },
  {
   "cell_type": "markdown",
   "metadata": {},
   "source": [
    "![](Lesson5Fig5_1.png)\n",
    "#### Fig. 5.1 Usefulness of efficient frontiers to investors - an illustration"
   ]
  },
  {
   "cell_type": "markdown",
   "metadata": {},
   "source": [
    "## 5.5  Efficient Frontiers: $k$-portfolios vs \"Ideal\" portfolio"
   ]
  },
  {
   "cell_type": "markdown",
   "metadata": {},
   "source": [
    "**Lesson 3 Heuristic Portfolio Selection** discussed three different selections of $k$-portfolios comprising Dow stocks. Labelled as $k$-portfolio 1, 2 and 3, the behaviour of these portfolios were compared with  that of an \"ideal\" portfolio where the investor decides to invest in all the stocks of the \"mini-universe\". The observations discussed in Sec. 4.4 of **Lesson 4 Traditional Methods for Portfolio Construction** showed that $k$-portfolios were endowed with merits that rendered them advantageous to the investors.   \n",
    "  \n",
    " In this lesson, we investigate the  risk-return trade-off behaviour of the $k$-portfolios, by tracing their efficient frontiers and comparing the same with that of the  \"ideal\" portfolio. The Mean-Variance Optimization model was applied over all the portfolios. Fig. 5.2 illustrates the efficient frontiers traced for $k$-portfolio 1, $k$-portfolio 2, $k$-portfolio 3 and the \"ideal\" portfolio, over the DJIA Index data set (April 2014 - April 2019).  \n",
    "   \n",
    "The CSV files DJIA_Apr112014_Apr112019_kpf1.csv, DJIA_Apr112014_Apr112019_kpf2.csv, DJIA_Apr112014_Apr112019_kpf3.csv hold the datasets for the respective $k$-portfolios 1,2 and 3, and DJIA_Apr112014_Apr112019.csv, the dataset for the Dow \"mini-universe\".     \n",
    "   \n",
    " The proximity of the $k$-portfolio efficient frontiers to that of the \"ideal\" portfolio reveals the similarity of  risk-return trade-off behaviour of the $k$-portfolios,  to that of the \"ideal\" portfolio. The proximity of the $k$-portfolio efficient frontiers to one another, also reveals the similarity of their portfolio behaviour despite holding different sets of assets that were randomly selected, one  from each of the clusters, during their construction. (Refer Sec 3.4 of  **Lesson 3 Heuristic Portfolio Selection** for the construction of $k$-portfolios of Dow stocks)"
   ]
  },
  {
   "cell_type": "markdown",
   "metadata": {},
   "source": [
    "![](DJIAkpfsIdeal_EfficientFrontiersComparison.png)\n",
    "#### Fig. 5.2 Performance Comparison of efficient frontiers of $k$-portfolios with the \"ideal\" efficient frontier,  for DJIA Index (April 2014-Aprl 2019)"
   ]
  },
  {
   "cell_type": "markdown",
   "metadata": {},
   "source": [
    "The efficient frontiers traced by the Mean-Variance Optimization model or known as the Markowitz model,  are termed as “exact” or “ideal” in the literature. The Markowitz model merely deals with basic constraints imposed over a bi-criterion objective function. The model can be easily solved using a variety of traditional methods including the one discussed in this lesson.  \n",
    "\n",
    "In reality, portfolio optimization problem models can turn too complex for direct solving by traditional methods. Thus when constraints reflective of investor preferences or  investment strategies or  market norms or religious laws etc.,  are included,  the problem models can turn complex,  warranting the need to look for non-traditional, nature-inspired  methods, referred to as **metaheuristics** in recent literature, to arrive at acceptable if not accurate solutions.  In the face of these models, a Markowitz model is often dubbed as an “Unconstrained Optimization” problem for it can be easily solved with the simplest of the traditional techniques."
   ]
  },
  {
   "cell_type": "markdown",
   "metadata": {},
   "source": [
    "### Companion Reading"
   ]
  },
  {
   "cell_type": "markdown",
   "metadata": {},
   "source": [
    "  \n",
    "\n",
    "This blog  is an abridged adaptation of concepts discussed in Chapter 1 and Chapter 3 of [PAI 18] to Dow Jones dataset (DJIA index: April, 2014- April, 2019) and implemented in Python. Readers (read \"worker bees\"),  seeking more information may refer to the corresponding chapter in the  book.\n"
   ]
  },
  {
   "cell_type": "markdown",
   "metadata": {},
   "source": [
    "<h3 align=\"left\">References</h3>   \n",
    "\n",
    "[MAR 52]   Markowitz H., Portfolio Selection, *The Journal of Finance*, vol. 7, no. 1, \n",
    "           pp. 77-91, Mar., 1952.  \n",
    "  \n",
    "  \n",
    "[PAI 18]   Vijayalakshmi Pai G. A., Metaheuristics for Portfolio Optimization- *An Introduction using MATLAB*, Wiley-ISTE, 2018. https://www.mathworks.com/academia/books/metaheuristics-for-portfolio-optimization-pai.html  \n"
   ]
  },
  {
   "cell_type": "markdown",
   "metadata": {},
   "source": [
    "#### Next.....Lesson 6: Sharpe Ratio based Portfolio Optimization"
   ]
  },
  {
   "cell_type": "markdown",
   "metadata": {},
   "source": [
    "![](Lesson5ExitTailImage.png)"
   ]
  },
  {
   "cell_type": "code",
   "execution_count": null,
   "metadata": {},
   "outputs": [],
   "source": []
  }
 ],
 "metadata": {
  "kernelspec": {
   "display_name": "Python 3",
   "language": "python",
   "name": "python3"
  },
  "language_info": {
   "codemirror_mode": {
    "name": "ipython",
    "version": 3
   },
   "file_extension": ".py",
   "mimetype": "text/x-python",
   "name": "python",
   "nbconvert_exporter": "python",
   "pygments_lexer": "ipython3",
   "version": "3.7.3"
  }
 },
 "nbformat": 4,
 "nbformat_minor": 2
}
